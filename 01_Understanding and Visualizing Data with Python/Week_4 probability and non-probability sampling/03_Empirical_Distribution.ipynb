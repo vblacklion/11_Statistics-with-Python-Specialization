{
 "cells": [
  {
   "cell_type": "markdown",
   "metadata": {},
   "source": [
    "# The Empirical Rule and Distribution\n",
    "\n",
    "In week 2, we discussed the empirical rule or the 68 - 95 - 99.7 rule, which describes how many observations fall within a certain distance from our mean.  This distance from the mean is denoted as sigma, or standard deviation (the average distance an observation is from the mean).\n",
    "\n",
    "The following image may help refresh your memory:\n",
    "\n",
    "![Three Sigma Rule](img/three_sigma_rule.png)\n",
    "\n",
    "For this tutorial, we will be exploring the number of hours the average college student gets.\n",
    "\n",
    "The example used in lecture stated there was a mean of 7 and standard deviation of 1.7 for hours of sleep; we will use these same values."
   ]
  },
  {
   "cell_type": "code",
   "execution_count": 1,
   "metadata": {},
   "outputs": [],
   "source": [
    "import warnings\n",
    "warnings.filterwarnings('ignore')\n",
    "import random\n",
    "import numpy as np\n",
    "import pandas as pd\n",
    "import matplotlib.pyplot as plt\n",
    "import seaborn as sns\n",
    "\n",
    "random.seed(1738)"
   ]
  },
  {
   "cell_type": "code",
   "execution_count": 9,
   "metadata": {},
   "outputs": [],
   "source": [
    "mu = 7\n",
    "\n",
    "sigma = 1.7\n",
    "\n",
    "Observations = [random.normalvariate(mu, sigma) for _ in range(100000)]"
   ]
  },
  {
   "cell_type": "code",
   "execution_count": 10,
   "metadata": {},
   "outputs": [
    {
     "data": {
      "text/plain": [
       "<matplotlib.lines.Line2D at 0x1bbd28c45e0>"
      ]
     },
     "execution_count": 10,
     "metadata": {},
     "output_type": "execute_result"
    },
    {
     "data": {
      "image/png": "[encoded data removed]",
      "text/plain": [
       "<Figure size 432x288 with 1 Axes>"
      ]
     },
     "metadata": {
      "needs_background": "light"
     },
     "output_type": "display_data"
    }
   ],
   "source": [
    "sns.distplot(Observations)\n",
    "\n",
    "plt.axvline(np.mean(Observations) + np.std(Observations), color = \"g\")\n",
    "plt.axvline(np.mean(Observations) - np.std(Observations), color = \"g\")\n",
    "\n",
    "plt.axvline(np.mean(Observations) + (np.std(Observations) * 2), color = \"y\")\n",
    "plt.axvline(np.mean(Observations) - (np.std(Observations) * 2), color = \"y\")\n"
   ]
  },
  {
   "cell_type": "code",
   "execution_count": null,
   "metadata": {},
   "outputs": [],
   "source": [
    "pd.Series(Observations).describe()"
   ]
  },
  {
   "cell_type": "code",
   "execution_count": null,
   "metadata": {},
   "outputs": [],
   "source": [
    "SampleA = random.sample(Observations, 100)\n",
    "SampleB = random.sample(Observations, 100)\n",
    "SampleC = random.sample(Observations, 100)"
   ]
  },
  {
   "cell_type": "code",
   "execution_count": null,
   "metadata": {},
   "outputs": [],
   "source": [
    "fig, ax = plt.subplots()\n",
    "\n",
    "sns.distplot(SampleA, ax = ax)\n",
    "sns.distplot(SampleB, ax = ax)\n",
    "sns.distplot(SampleC, ax = ax)\n"
   ]
  },
  {
   "cell_type": "markdown",
   "metadata": {},
   "source": [
    "Now that we have covered the 68 - 95 - 99.7 rule, we will take this a step further and discuss the empirical distribution.\n",
    "\n",
    "The empirical distribution is a cumulative density function that signifies the proportion of observations that are less than or equal to a certain values.\n",
    "\n",
    "Lets use the initial image above as an example of this concept:\n",
    "\n",
    "<img src=\"Three Sigma Rule.png\">\n",
    "\n",
    "Now, by using our observations for ours of sleep, we can create an empirical distribution in python that signifies the proportion of observations are observed at a specific number for hours of sleep."
   ]
  },
  {
   "cell_type": "code",
   "execution_count": null,
   "metadata": {},
   "outputs": [],
   "source": [
    "mu = 7\n",
    "\n",
    "sigma = 1.7\n",
    "\n",
    "Observations = [random.normalvariate(mu, sigma) for _ in range(100000)]\n",
    "\n",
    "sns.distplot(Observations)\n",
    "plt.axvline(np.mean(Observations) + np.std(Observations), 0, .59, color = 'g')\n",
    "plt.axvline(np.mean(Observations) - np.std(Observations), 0, .59, color = 'g')\n",
    "\n",
    "plt.axvline(np.mean(Observations) + (np.std(Observations) * 2), 0, .15, color = 'y')\n",
    "plt.axvline(np.mean(Observations) - (np.std(Observations) * 2), 0, .15, color = 'y')"
   ]
  },
  {
   "cell_type": "code",
   "execution_count": null,
   "metadata": {},
   "outputs": [],
   "source": [
    "from statsmodels.distributions.empirical_distribution import ECDF\n",
    "import matplotlib.pyplot as plt\n",
    "\n",
    "ecdf = ECDF(Observations)\n",
    "\n",
    "plt.plot(ecdf.x, ecdf.y)\n",
    "\n",
    "plt.axhline(y = 0.025, color = 'y', linestyle='-')\n",
    "plt.axvline(x = np.mean(Observations) - (2 * np.std(Observations)), color = 'y', linestyle='-')\n",
    "\n",
    "plt.axhline(y = 0.975, color = 'y', linestyle='-')\n",
    "plt.axvline(x = np.mean(Observations) + (2 * np.std(Observations)), color = 'y', linestyle='-')"
   ]
  }
 ],
 "metadata": {
  "kernelspec": {
   "display_name": "Python 3",
   "language": "python",
   "name": "python3"
  },
  "language_info": {
   "codemirror_mode": {
    "name": "ipython",
    "version": 3
   },
   "file_extension": ".py",
   "mimetype": "text/x-python",
   "name": "python",
   "nbconvert_exporter": "python",
   "pygments_lexer": "ipython3",
   "version": "3.8.2"
  }
 },
 "nbformat": 4,
 "nbformat_minor": 4
}
